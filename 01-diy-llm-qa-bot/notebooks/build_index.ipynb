{
 "cells": [
  {
   "cell_type": "code",
   "execution_count": 1,
   "metadata": {},
   "outputs": [],
   "source": [
    "import qdrant_client\n",
    "import os, nest_asyncio\n",
    "from IPython.display import Markdown, display\n",
    "from llama_index.vector_stores.qdrant import QdrantVectorStore\n",
    "from llama_index.core import StorageContext, Document, VectorStoreIndex, SimpleDirectoryReader\n",
    "os.chdir('/Users/1zuu/Library/Mobile Documents/com~apple~CloudDocs/ML DEV/LLM RESEARCH 2024/LLM in Production/01-diy-llm-qa-bot')\n",
    "nest_asyncio.apply() "
   ]
  },
  {
   "cell_type": "code",
   "execution_count": 2,
   "metadata": {},
   "outputs": [
    {
     "name": "stdout",
     "output_type": "stream",
     "text": [
      "Using Groq LLM ....\n",
      "Using HuggingFace Embedding ....\n"
     ]
    }
   ],
   "source": [
    "from util.llm_services import *"
   ]
  },
  {
   "cell_type": "code",
   "execution_count": 4,
   "metadata": {},
   "outputs": [
    {
     "data": {
      "text/plain": [
       "[Document(id_='a23e2211-ca9f-4fe1-ac9c-fffa8a059d8f', embedding=None, metadata={'page_label': '1', 'file_name': 'HNB.pdf', 'file_path': '/Users/1zuu/Library/Mobile Documents/com~apple~CloudDocs/ML DEV/LLM RESEARCH 2024/LLM in Production/01-diy-llm-qa-bot/db/kb/HNB.pdf', 'file_type': 'application/pdf', 'file_size': 2653957, 'creation_date': '2024-05-31', 'last_modified_date': '2024-05-31'}, excluded_embed_metadata_keys=['file_name', 'file_type', 'file_size', 'creation_date', 'last_modified_date', 'last_accessed_date'], excluded_llm_metadata_keys=['file_name', 'file_type', 'file_size', 'creation_date', 'last_modified_date', 'last_accessed_date'], relationships={}, text='FIXED DEPOSIT SERVICES\\nCIB/CMB User Information ManualCorporate Internet Banking', start_char_idx=None, end_char_idx=None, text_template='{metadata_str}\\n\\n{content}', metadata_template='{key}: {value}', metadata_seperator='\\n'),\n",
       " Document(id_='ed6c1717-1fa9-433e-a9d1-ab7520f1561b', embedding=None, metadata={'page_label': '2', 'file_name': 'HNB.pdf', 'file_path': '/Users/1zuu/Library/Mobile Documents/com~apple~CloudDocs/ML DEV/LLM RESEARCH 2024/LLM in Production/01-diy-llm-qa-bot/db/kb/HNB.pdf', 'file_type': 'application/pdf', 'file_size': 2653957, 'creation_date': '2024-05-31', 'last_modified_date': '2024-05-31'}, excluded_embed_metadata_keys=['file_name', 'file_type', 'file_size', 'creation_date', 'last_modified_date', 'last_accessed_date'], excluded_llm_metadata_keys=['file_name', 'file_type', 'file_size', 'creation_date', 'last_modified_date', 'last_accessed_date'], relationships={}, text='Fixed Deposit Placement – create fixed deposit account and perform placement on\\nvarious FD product\\nFixed Deposit Withdrawal – withdraw FD that create via Internet Banking\\nPrincipal & Interest Disposition – maintain FD account’s auto renewal and interest\\ndisposition method (FD created in Internet Banking)\\nTransaction History – view FD account transaction history.\\nFixed Deposit Rate Inquiry – view current People’s Bank FD product latest interest\\nrate.This function allows Internet Banking users to perform fixed deposit services as below:FUNCTION OVERVIEW', start_char_idx=None, end_char_idx=None, text_template='{metadata_str}\\n\\n{content}', metadata_template='{key}: {value}', metadata_seperator='\\n'),\n",
       " Document(id_='8305b113-ca78-4093-b8a5-f6158f3f1f9c', embedding=None, metadata={'page_label': '3', 'file_name': 'HNB.pdf', 'file_path': '/Users/1zuu/Library/Mobile Documents/com~apple~CloudDocs/ML DEV/LLM RESEARCH 2024/LLM in Production/01-diy-llm-qa-bot/db/kb/HNB.pdf', 'file_type': 'application/pdf', 'file_size': 2653957, 'creation_date': '2024-05-31', 'last_modified_date': '2024-05-31'}, excluded_embed_metadata_keys=['file_name', 'file_type', 'file_size', 'creation_date', 'last_modified_date', 'last_accessed_date'], excluded_llm_metadata_keys=['file_name', 'file_type', 'file_size', 'creation_date', 'last_modified_date', 'last_accessed_date'], relationships={}, text='Fixed Deposit Services >> Fixed Deposit Placement\\nInput “Fixed Deposit Placement” in search menu text boxGeneral Description of Functionality\\nCorporate Internet Banking application allows user to perform fixed deposit placement via e-\\nchannel. User are allowed to select various product provided by People’s Bank. Second factor\\nAuthentication -   One Time Password (OTP) verification is required prior to perform submission. For\\nOTP, is transmitted to Internet Banking user’s mobile phone through SMS or EMAIL address based\\non user preference during the maintenance session. After success placement, host will generate a\\nnew FD account number which can be checked via Transaction Inquiry.\\nGeneral Description of Solution\\nCIB provides the solution to make FD placement in a very much convenient way. Customer can\\nchoose the below options to perform from the menu,\\nGo to Fixed Deposit Services >> Fixed Deposit Placement to perform transaction:\\nStep 1 – Select Transfer From Account from the list. Fixed Deposit product will be filtered based on  \\n               selected From Account currency.\\nStep 2 – Select Fixed Deposit Product from dropdown list, and related currency, tenure, interest  \\n               term will be populated for choosing.\\nStep 3 – User is now able to select Instruction Upon Maturity and Interest Disposition based on\\n               scenario below\\nScenario\\n                           1. Upon Maturity – Auto Renewal, Interest Disposition – Add to Principal\\n                           2. Upon Maturity – Auto Renewal, Interest Disposition – Credit to Account\\n                           3. Upon Maturity – Credit to Account, Interest Disposition – Credit to Account\\nIn scenario 2, customers are allowed to select their Interest Disposition Account.\\nIn scenario 3, customers are allowed to select their Upon Maturity Account and Interest  \\nDisposition Account. Both accounts can be different.\\nStep 4 – Input principal amount and KYC Details.\\nUser using OTP as 2nd Factor Authentication\\nStep 5 – Recheck the entered data and click   REQUEST OTP  in confirmation page.\\nStep 6 – Enter OTP value that you received through Mobile phone SMS or EMAIL. Click   NEXT   to \\n               submit placement request.\\nStep 7 - The application result page will display status of transaction whether successful or failed.  \\n               Reasons for failed transactions are displayed. The successful application will send to  \\n               approval group based on setting in Authorization Matrix for further action.FIXED DEPOSIT PLACEMENT', start_char_idx=None, end_char_idx=None, text_template='{metadata_str}\\n\\n{content}', metadata_template='{key}: {value}', metadata_seperator='\\n'),\n",
       " Document(id_='58a2378a-f8f6-436e-897e-e3cb5788ac22', embedding=None, metadata={'page_label': '4', 'file_name': 'HNB.pdf', 'file_path': '/Users/1zuu/Library/Mobile Documents/com~apple~CloudDocs/ML DEV/LLM RESEARCH 2024/LLM in Production/01-diy-llm-qa-bot/db/kb/HNB.pdf', 'file_type': 'application/pdf', 'file_size': 2653957, 'creation_date': '2024-05-31', 'last_modified_date': '2024-05-31'}, excluded_embed_metadata_keys=['file_name', 'file_type', 'file_size', 'creation_date', 'last_modified_date', 'last_accessed_date'], excluded_llm_metadata_keys=['file_name', 'file_type', 'file_size', 'creation_date', 'last_modified_date', 'last_accessed_date'], relationships={}, text='Fixed Deposit Placement – Input Transaction Details', start_char_idx=None, end_char_idx=None, text_template='{metadata_str}\\n\\n{content}', metadata_template='{key}: {value}', metadata_seperator='\\n'),\n",
       " Document(id_='25349583-2c6d-4b70-a42c-3f47b84cea81', embedding=None, metadata={'page_label': '5', 'file_name': 'HNB.pdf', 'file_path': '/Users/1zuu/Library/Mobile Documents/com~apple~CloudDocs/ML DEV/LLM RESEARCH 2024/LLM in Production/01-diy-llm-qa-bot/db/kb/HNB.pdf', 'file_type': 'application/pdf', 'file_size': 2653957, 'creation_date': '2024-05-31', 'last_modified_date': '2024-05-31'}, excluded_embed_metadata_keys=['file_name', 'file_type', 'file_size', 'creation_date', 'last_modified_date', 'last_accessed_date'], excluded_llm_metadata_keys=['file_name', 'file_type', 'file_size', 'creation_date', 'last_modified_date', 'last_accessed_date'], relationships={}, text='Fixed Deposit Placement – Confirmation', start_char_idx=None, end_char_idx=None, text_template='{metadata_str}\\n\\n{content}', metadata_template='{key}: {value}', metadata_seperator='\\n'),\n",
       " Document(id_='f098b6b3-0729-40bd-a434-a8033a857a0e', embedding=None, metadata={'page_label': '6', 'file_name': 'HNB.pdf', 'file_path': '/Users/1zuu/Library/Mobile Documents/com~apple~CloudDocs/ML DEV/LLM RESEARCH 2024/LLM in Production/01-diy-llm-qa-bot/db/kb/HNB.pdf', 'file_type': 'application/pdf', 'file_size': 2653957, 'creation_date': '2024-05-31', 'last_modified_date': '2024-05-31'}, excluded_embed_metadata_keys=['file_name', 'file_type', 'file_size', 'creation_date', 'last_modified_date', 'last_accessed_date'], excluded_llm_metadata_keys=['file_name', 'file_type', 'file_size', 'creation_date', 'last_modified_date', 'last_accessed_date'], relationships={}, text='Fixed Deposit Placement – Confirmation (OTP)\\nFixed Deposit Placement – Result Page', start_char_idx=None, end_char_idx=None, text_template='{metadata_str}\\n\\n{content}', metadata_template='{key}: {value}', metadata_seperator='\\n'),\n",
       " Document(id_='c2c31930-4e29-4951-abe6-b6fb3509b01e', embedding=None, metadata={'page_label': '7', 'file_name': 'HNB.pdf', 'file_path': '/Users/1zuu/Library/Mobile Documents/com~apple~CloudDocs/ML DEV/LLM RESEARCH 2024/LLM in Production/01-diy-llm-qa-bot/db/kb/HNB.pdf', 'file_type': 'application/pdf', 'file_size': 2653957, 'creation_date': '2024-05-31', 'last_modified_date': '2024-05-31'}, excluded_embed_metadata_keys=['file_name', 'file_type', 'file_size', 'creation_date', 'last_modified_date', 'last_accessed_date'], excluded_llm_metadata_keys=['file_name', 'file_type', 'file_size', 'creation_date', 'last_modified_date', 'last_accessed_date'], relationships={}, text='Fixed Deposit Services >> Fixed Deposit Withdrawal\\nInput “Fixed Deposit Withdrawal” in search menu text boxGeneral Description of Functionality\\nCorporate Internet Banking application allows user to perform fixed deposit withdrawal via e-\\nchannel. User are allowed to select the FD account that has been placed through Corporate\\nInternet Banking. Second factor Authentication - One Time Password (OTP) verification is required\\nprior to perform submission. The PIN value is transmitted to Internet Banking user’s mobile phone\\nthrough SMS or EMAIL address based on user preference during the maintenance session.\\nGeneral Description of Solution\\nCIB provides the solution to perform fixed deposit account withdrawal to own CASA account.\\nCustomer can choose the below options to perform from the menu,\\nGo to Fixed Deposit Services >> Fixed Deposit Withdrawal to perform transaction:\\nStep 1 – Select FD account number from dropdown list. List will contain FD account placed from \\n               Internet Banking and active FD account (not newly placed today)\\nStep 2 – FD account details will be populated. Select Credit To Account and Withdrawal Reason \\n               from dropdown list. Click NEXT button to proceed.\\nStep 3 - Verify all transaction details and click PROCEED button to submit the task. 2FA (OTP) \\n               validation is required to proceed the transaction.\\nStep 4 - The application result page will display status of transaction whether successful or failed. \\n               Reasons for failed transactions are displayed. The successful application will send to  \\n               approval group based on setting in Authorization Matrix for further action.\\nFIXED DEPOSIT WITHDRAWAL\\n4.3-1 Fixed Deposit Withdrawal – Input Transaction Details', start_char_idx=None, end_char_idx=None, text_template='{metadata_str}\\n\\n{content}', metadata_template='{key}: {value}', metadata_seperator='\\n'),\n",
       " Document(id_='7f3b4f25-12b7-4e37-b0a6-2dc1848f0493', embedding=None, metadata={'page_label': '8', 'file_name': 'HNB.pdf', 'file_path': '/Users/1zuu/Library/Mobile Documents/com~apple~CloudDocs/ML DEV/LLM RESEARCH 2024/LLM in Production/01-diy-llm-qa-bot/db/kb/HNB.pdf', 'file_type': 'application/pdf', 'file_size': 2653957, 'creation_date': '2024-05-31', 'last_modified_date': '2024-05-31'}, excluded_embed_metadata_keys=['file_name', 'file_type', 'file_size', 'creation_date', 'last_modified_date', 'last_accessed_date'], excluded_llm_metadata_keys=['file_name', 'file_type', 'file_size', 'creation_date', 'last_modified_date', 'last_accessed_date'], relationships={}, text='4.4-1 Fixed Deposit Withdrawal – Confirmation', start_char_idx=None, end_char_idx=None, text_template='{metadata_str}\\n\\n{content}', metadata_template='{key}: {value}', metadata_seperator='\\n'),\n",
       " Document(id_='f2f43ef3-0aa1-40ab-bfe3-6e0962189d38', embedding=None, metadata={'page_label': '9', 'file_name': 'HNB.pdf', 'file_path': '/Users/1zuu/Library/Mobile Documents/com~apple~CloudDocs/ML DEV/LLM RESEARCH 2024/LLM in Production/01-diy-llm-qa-bot/db/kb/HNB.pdf', 'file_type': 'application/pdf', 'file_size': 2653957, 'creation_date': '2024-05-31', 'last_modified_date': '2024-05-31'}, excluded_embed_metadata_keys=['file_name', 'file_type', 'file_size', 'creation_date', 'last_modified_date', 'last_accessed_date'], excluded_llm_metadata_keys=['file_name', 'file_type', 'file_size', 'creation_date', 'last_modified_date', 'last_accessed_date'], relationships={}, text='4.5-1 Fixed Deposit Withdrawal – Result Page', start_char_idx=None, end_char_idx=None, text_template='{metadata_str}\\n\\n{content}', metadata_template='{key}: {value}', metadata_seperator='\\n'),\n",
       " Document(id_='a7ac8e21-64cb-4328-9a7c-217000ffd73c', embedding=None, metadata={'page_label': '1', 'file_name': 'Peoples Bank.pdf', 'file_path': '/Users/1zuu/Library/Mobile Documents/com~apple~CloudDocs/ML DEV/LLM RESEARCH 2024/LLM in Production/01-diy-llm-qa-bot/db/kb/Peoples Bank.pdf', 'file_type': 'application/pdf', 'file_size': 157122, 'creation_date': '2024-05-31', 'last_modified_date': '2024-05-31'}, excluded_embed_metadata_keys=['file_name', 'file_type', 'file_size', 'creation_date', 'last_modified_date', 'last_accessed_date'], excluded_llm_metadata_keys=['file_name', 'file_type', 'file_size', 'creation_date', 'last_modified_date', 'last_accessed_date'], relationships={}, text=' Fixed Deposits  \\nWhat are the Eligibility criteria to open a Fixed Deposit?  \\n• A citizen of Sri Lanka above 18 years of age holding a valid National Identity Card (NIC) / \\nvalid Passport or Driving License.  \\n• A Sri Lankan citizen residing temporarily outside Sri Lanka.  \\n• A person holding dual citizenship.  \\n• Non-resident who possesses  a resident visa.  \\n \\nOther than an individual who else could open a Fixed Deposit?  \\nTerm Deposit Accounts can be opened by Individuals singly or jointly and in addition it could be \\nopened by Partnership firms, Private and Public Limited Companies, Specified Associations, \\nSocieties, Trusts.  \\nCan individuals open joint Fixed Deposit?  \\nYes, Deposit accounts can be opened by an individual in his own name or by more tha n one \\nindividual in their own names.  \\nIn case of a jointly held fixed Deposit who could operate the account  \\nOperation of Joint Accounts – The Joint Account opened by more than one individual can be \\noperated by a single joint holder if the joint holders have  agreed in the mandate under operating \\ninstructions (EITHER PARTY OPERATION). If not, by more than one individual/jointly as specified \\nin the mandate. The change for operating instructions can be modified only with the consent of \\nthe joint account holders.  \\nI am a Sri Lankan citizen residing outside of Sri Lanka,  how  can I open an account?  \\nYou can forward the relevant scanned documents through e -mail and funds could be transferred \\nto one of our designated bank account in Sri Lanka. The original documents will have to be \\nsubmitted to us subsequently.  \\nCan a holder of a power of attorney sign the deposit application form?  \\nYes. At the time of opening the account the original power of attorney should be submitted along \\nthe copy.  \\n \\n ', start_char_idx=None, end_char_idx=None, text_template='{metadata_str}\\n\\n{content}', metadata_template='{key}: {value}', metadata_seperator='\\n'),\n",
       " Document(id_='438c8762-b11a-4cd9-a268-498b13c29143', embedding=None, metadata={'page_label': '2', 'file_name': 'Peoples Bank.pdf', 'file_path': '/Users/1zuu/Library/Mobile Documents/com~apple~CloudDocs/ML DEV/LLM RESEARCH 2024/LLM in Production/01-diy-llm-qa-bot/db/kb/Peoples Bank.pdf', 'file_type': 'application/pdf', 'file_size': 157122, 'creation_date': '2024-05-31', 'last_modified_date': '2024-05-31'}, excluded_embed_metadata_keys=['file_name', 'file_type', 'file_size', 'creation_date', 'last_modified_date', 'last_accessed_date'], excluded_llm_metadata_keys=['file_name', 'file_type', 'file_size', 'creation_date', 'last_modified_date', 'last_accessed_date'], relationships={}, text=' What are the documen ts needed to open a Fixed Deposit?  \\n• For individuals – A duly completed Deposit application, copy of NIC/copy of valid \\npassport/copy of driving license, if the depositors address differs from the NIC a utility bill \\nor a copy of a bank statement with the curr ent address of the depositor issued within 3 \\nmonths of the date of deposit and a KYC form (Know Your Customer)  \\n• For Others (Partnership firms, Private and Public Limited Companies, Specified Associations, \\nSocieties, Trusts) Duly completed Deposit application, copy of the registration of the entity, \\nKYC form of the entity, Copies of NIC’s of Directors/Authorized signatories and their \\nindividuals KYC forms, resolutions/ minutes confirming decision taken to place a fixed \\ndeposit with HNB FINANCE. Othe r relevant documents are to be obtained as mentioned in \\nthe application form.  \\n \\nWhy is the KYC form important?  \\nKnow Your Customer Form – In order to prevent identity theft, identity fraud, money laundering, \\nterrorist financing. The Central Bank of Sri Lanka  has directed all banks and financial institutions \\nto complete a KYC form before opening an account.  This involves verifying customer ’s  identity \\nand address by requesting documents that are accepted as relevant proof .  \\nMandatory details required under KYC  Forms are proof of identity and proof of address, NIC,  valid \\nPassport, or Drivers’ License  are accepted as proof of identity. proof of residence can be by way \\nof electricity or telephone bill or a letter from the Employer or any recognized public authorit y \\ncertifying the address.  \\nWill this information be confidential?  \\nYes, under Section 61 of the Finance Business Act No 42 of 2011, strict confidentiality has to be \\nobserved by all officers of the company in respect of all customer transactions unless it is required \\nto be disclosed by a Court of law or in compliance with any other written law  \\nWhat will happen if I do not provide the required KYC information or documents to HNB \\nFINANCE ? \\nHNB Finance will have the right to reject the deposit.  \\nIs there provision for Nomination for a Deposit?  \\nYes. You can nominate any person/s as you wish. If you are nominating more than one person \\nyou should indicate each person’s  share. If not, we will consider on equal share basis. The full \\nname/s of the nominees and their identification numbers such as NIC/PP/DL should be submitted \\nby the depositor.  \\n ', start_char_idx=None, end_char_idx=None, text_template='{metadata_str}\\n\\n{content}', metadata_template='{key}: {value}', metadata_seperator='\\n'),\n",
       " Document(id_='f28202e2-3616-41f1-8044-fa52bdc66481', embedding=None, metadata={'page_label': '3', 'file_name': 'Peoples Bank.pdf', 'file_path': '/Users/1zuu/Library/Mobile Documents/com~apple~CloudDocs/ML DEV/LLM RESEARCH 2024/LLM in Production/01-diy-llm-qa-bot/db/kb/Peoples Bank.pdf', 'file_type': 'application/pdf', 'file_size': 157122, 'creation_date': '2024-05-31', 'last_modified_date': '2024-05-31'}, excluded_embed_metadata_keys=['file_name', 'file_type', 'file_size', 'creation_date', 'last_modified_date', 'last_accessed_date'], excluded_llm_metadata_keys=['file_name', 'file_type', 'file_size', 'creation_date', 'last_modified_date', 'last_accessed_date'], relationships={}, text=' Can I change the nominees?  \\nIn the case of a new deposit the mandate provides provision for nom ination. For all other \\nsubsequent changes,  we need a written confirmation from the depositor/s. For subsequent \\nchanges you  could obtain a nomination form  the company.  \\nIn a case of a joint account could any one of the joint holders change the nominee?  \\nNo. I n a joint account all joint holders consent is necessary to change the nomination.  \\nIn a case of a joint account if one of the joint holders are deceased can the surviving holder/s \\noperate the account?  \\nYes. The surviving holder/s can operate the account wit hout the consent of the nominee. \\nNominee will come in to effect only in the event of demise of all depositors.  \\nWhat happens in the case of the death of a depositor? How will the payment be made?  \\nUpon the submission of the following documents by the nominee, payment or transfer could be \\nmade to the nominee;  \\n• Deposit certificate  \\n• Certified copy of the death certificate of the depositor  \\n• Identification of the Nominee  \\n• Duly completed Affidavit by the nominee  \\n• Instruction letter from the nominee  \\n \\nWhen I open a n account do I get a fixed deposit certificate?  \\nYes, you will be given a certificate with the following information. Deposit account number, Date \\nof deposit, Date of maturity, Value of deposit, Names of the depositor/s with their identity \\ndetails, Mode of interest payment,  Terms and conditions governing the deposit.  \\nWhat happens if I lose or misplace my certificate?  \\nTo perform any transaction,  you need have the certificate. In such instances you could request \\nfor a duplicate certificate with the following d ocuments. Request letter from the depositor/s, \\nduly  perfected Affidavit attested by a Notary/ JP, (A specimen of an affidavit could be obtained \\nfrom the company)  \\n \\nWhat are the present rates of interest?  ', start_char_idx=None, end_char_idx=None, text_template='{metadata_str}\\n\\n{content}', metadata_template='{key}: {value}', metadata_seperator='\\n'),\n",
       " Document(id_='14c683ca-b1e0-4849-8562-138623b8547b', embedding=None, metadata={'page_label': '4', 'file_name': 'Peoples Bank.pdf', 'file_path': '/Users/1zuu/Library/Mobile Documents/com~apple~CloudDocs/ML DEV/LLM RESEARCH 2024/LLM in Production/01-diy-llm-qa-bot/db/kb/Peoples Bank.pdf', 'file_type': 'application/pdf', 'file_size': 157122, 'creation_date': '2024-05-31', 'last_modified_date': '2024-05-31'}, excluded_embed_metadata_keys=['file_name', 'file_type', 'file_size', 'creation_date', 'last_modified_date', 'last_accessed_date'], excluded_llm_metadata_keys=['file_name', 'file_type', 'file_size', 'creation_date', 'last_modified_date', 'last_accessed_date'], relationships={}, text=' Click here  for the present rates of interest.  \\nWhat happens if the interest rate changes during the contracted deposit period?  \\nThere will be no change to the terms since, we are contracted to the rate until its maturity as per \\ncurrent rules.  \\nWhat are the periods for which deposits are accepted at present?  \\n12 Months, 18 Months, 24 Months 36 Months 48 and 60 Months.  \\nCan I make a deposit for a short period?  \\nYes. You could make a fixed deposit for a min imum period of 12  month s or if it Is less than 12  \\nmonth s you could open a Savings account . \\nHow do make payment for the deposit?  \\nThe deposit can be made to your nearest HNB Finance Branch, by means of Cash; fund transfer \\ndirectly to a HNB FINANCE designated Bank account or Cheque/ bank draft issued in favor  of \\n“HNB Finance  Limited ” \\nCan funds be  deposited from time to time as additions to the existing deposits?  \\nAdditions/part payments could be made only at the date of Maturity. Alternatively, you could \\nopen a new deposit account.  \\n \\n \\n \\nCan deposits be made by way of cheques issued  favoring  the depositor or third party and \\nendorsed in favor  of HNB FINANCE ? \\nCheques favoring  a third party (not the depositor) are not accepted. However, uncrossed \\ncheques drawn in favor  of the depositor could be accepted. All deposits made by cheques are \\nsubject to realization of the proceeds.  \\nCan I withdraw my Fixed Deposit before maturity?  \\nYes. You could at any given time. However, you could obtain a FD agent’s Loan without \\nwithdrawing your deposit.  ', start_char_idx=None, end_char_idx=None, text_template='{metadata_str}\\n\\n{content}', metadata_template='{key}: {value}', metadata_seperator='\\n'),\n",
       " Document(id_='121388de-087b-4249-b60a-74ae1110b168', embedding=None, metadata={'page_label': '5', 'file_name': 'Peoples Bank.pdf', 'file_path': '/Users/1zuu/Library/Mobile Documents/com~apple~CloudDocs/ML DEV/LLM RESEARCH 2024/LLM in Production/01-diy-llm-qa-bot/db/kb/Peoples Bank.pdf', 'file_type': 'application/pdf', 'file_size': 157122, 'creation_date': '2024-05-31', 'last_modified_date': '2024-05-31'}, excluded_embed_metadata_keys=['file_name', 'file_type', 'file_size', 'creation_date', 'last_modified_date', 'last_accessed_date'], excluded_llm_metadata_keys=['file_name', 'file_type', 'file_size', 'creation_date', 'last_modified_date', 'last_accessed_date'], relationships={}, text=' Who is eligible to open a Senior Citizens account?  \\nCustomers wh o are 60 years of age or above are eligible to obtain a HNB FINANCE Senior Citizens \\naccount  \\nCan a joint account be opened with a Senior Citizen where one of the Citizens account holders \\nis below the qualifying age?  \\nNo, At the time of opening the account all joint holders must complete the age of 60 Years.  \\nWhat happens to my account when I reach the age of a Senior Citizen (60 years)?  \\nTalk to your customer care officer, and you could make necessary changes when renewing / \\nopening a new deposit or s avings account.  \\nWhat other benefits are available for HNB FINANCE  Depositors?  \\n• Loan  facilities against the deposit.  \\n• Letters of guarantee (Bank Guarantees)  \\n• TR facilities through ATM’s  \\n \\nInterest Payments  \\nDo you pay monthly interest on deposits?  \\nYes, interest can be paid monthly or at maturity  \\nWhat are the modes by which interest is paid?  \\nAs per the instruction given by the depositor the interest payment can be arranged as follows;  \\n• Payment to the account designated by the customer (E.g. HNB FINANCE Savings account or \\nother bank accounts)  \\nCan you pay interest to the second depositor or a designated person?  \\nYes, with the instructions of deposit holder/s the interest can be paid either to one of the joint \\nholders or to a third party with a writt en consent of the deposit account holders.  \\n  \\nWhen do you intimate the maturity of the deposit?  \\nA computer generated renewal notice is sent 14 days in advance of the maturity date.  ', start_char_idx=None, end_char_idx=None, text_template='{metadata_str}\\n\\n{content}', metadata_template='{key}: {value}', metadata_seperator='\\n'),\n",
       " Document(id_='2063ee82-aecd-4ae4-bbda-f38de6c8550d', embedding=None, metadata={'page_label': '6', 'file_name': 'Peoples Bank.pdf', 'file_path': '/Users/1zuu/Library/Mobile Documents/com~apple~CloudDocs/ML DEV/LLM RESEARCH 2024/LLM in Production/01-diy-llm-qa-bot/db/kb/Peoples Bank.pdf', 'file_type': 'application/pdf', 'file_size': 157122, 'creation_date': '2024-05-31', 'last_modified_date': '2024-05-31'}, excluded_embed_metadata_keys=['file_name', 'file_type', 'file_size', 'creation_date', 'last_modified_date', 'last_accessed_date'], excluded_llm_metadata_keys=['file_name', 'file_type', 'file_size', 'creation_date', 'last_modified_date', 'last_accessed_date'], relationships={}, text=' What I should do to get my deposit renewed?  \\nThe completed renewal notice and  the matured term deposit certificate should be sent to us or \\nyou may hand over these documents to any of our Branches to issue a new certificate on renewal.  \\n \\nAre the signatures of all the joint depositors required on the renewal form?  \\nThis is subject to t he operating instructions given at the time of opening the account.  \\nIf I do not respond to the renewal notice, what will happen to my deposit?  \\nOn a Monthly Interest payment fixed Deposit the capital will be renewed automatically with the \\nprevailing interes t rate for the same period. And, if it is a maturity deposit the capital will be \\nrenewed with the accrued interest and will be renewed for the equal period at the prevailing \\nrate.  \\nPayments/ Withdrawals  \\nAt maturity how can I withdraw my deposit?  \\nYou have to  surrender the original deposit certificate duly discharged with the payment \\ninstructions.  Refund could be by way of either:  \\n• Cash  \\n• Cheque  \\n• Remitting to a bank account.  \\n \\nDo I need to give notice of withdrawal?  \\nNo notice of withdrawal is necessary. However,  In a case of a  withdrawal through a branch it is \\nadvisable to give one days’ notice  as the payments are processed at a central location.  \\nIn case I need money urgently, can I withdraw the deposit?  \\nYes, you can.  The Deposit could be withdrawn on request of the depositor and at the discretion \\nof the company, subject to a discounted interest rate. In a case of a joint account withdrawal will \\nbe allowed as per the operating instructions given by the joint holders.  \\nCan I get part payment prematurely?  ', start_char_idx=None, end_char_idx=None, text_template='{metadata_str}\\n\\n{content}', metadata_template='{key}: {value}', metadata_seperator='\\n'),\n",
       " Document(id_='846ff605-2b94-4349-b687-0b59646e298b', embedding=None, metadata={'page_label': '7', 'file_name': 'Peoples Bank.pdf', 'file_path': '/Users/1zuu/Library/Mobile Documents/com~apple~CloudDocs/ML DEV/LLM RESEARCH 2024/LLM in Production/01-diy-llm-qa-bot/db/kb/Peoples Bank.pdf', 'file_type': 'application/pdf', 'file_size': 157122, 'creation_date': '2024-05-31', 'last_modified_date': '2024-05-31'}, excluded_embed_metadata_keys=['file_name', 'file_type', 'file_size', 'creation_date', 'last_modified_date', 'last_accessed_date'], excluded_llm_metadata_keys=['file_name', 'file_type', 'file_size', 'creation_date', 'last_modified_date', 'last_accessed_date'], relationships={}, text=' Yes. The same procedure is applicable as for a full premature withdrawal. However, in such cases, \\nthe depositor can also consider obtaining a loan up to 90.00% on maturity deposits and up  to \\n70% on monthly deposits of the  deposit amount.  \\nIs the signature of one of the depositors sufficient for payment at maturity or prematurely?  \\nThis depends on the operating instructions given at the time of opening of the account, as in \\nsome cases it could be both/all or either party.  \\nLoans /Temporary refund against the deposit  \\nWill you allow a loan on the deposit?  \\nYes – you are eligible to apply for a loan against your deposit ranging from 70% to 90% of the \\ncapital value according to the category of the deposit  \\nWhat notice is necessary to obtain a temporary loan?  \\nNo n otice is necessary.  \\nWhat are the documents needed to obtain a loan?  \\nOriginal Fixed deposit certificate  \\n• Loan application form  signed by the depositor/s as per the operating instruction given in \\nthe deposit applicati on \\n \\nCan the loan be repaid in installments?  \\nYes. Until the Maturity of the Deposit takes place the loan can be repaid. Thereafter, if you wish \\nthe loan balance could be carried forward subject to renewal of the deposit.  \\n \\n ', start_char_idx=None, end_char_idx=None, text_template='{metadata_str}\\n\\n{content}', metadata_template='{key}: {value}', metadata_seperator='\\n')]"
      ]
     },
     "execution_count": 4,
     "metadata": {},
     "output_type": "execute_result"
    }
   ],
   "source": [
    "documents = SimpleDirectoryReader(path_config.kb_documents_dir).load_data()\n",
    "documents"
   ]
  },
  {
   "cell_type": "code",
   "execution_count": 5,
   "metadata": {},
   "outputs": [],
   "source": [
    "# token_count_hnb = len(tiktoken_encoder.encode(document_hnb))\n",
    "# token_count_peoples = len(tiktoken_encoder.encode(document_peoples))\n",
    "\n",
    "# print(f\"Total token count HNB: {token_count_hnb}\")\n",
    "# print(f\"Total token count Peoples Bank: {token_count_peoples}\")"
   ]
  },
  {
   "cell_type": "code",
   "execution_count": 6,
   "metadata": {},
   "outputs": [
    {
     "name": "stdout",
     "output_type": "stream",
     "text": [
      "Total nodes: 16\n"
     ]
    }
   ],
   "source": [
    "nodes = Settings.node_parser.get_nodes_from_documents(documents)\n",
    "print(f\"Total nodes: {len(nodes)}\")"
   ]
  },
  {
   "cell_type": "code",
   "execution_count": 7,
   "metadata": {},
   "outputs": [
    {
     "name": "stdout",
     "output_type": "stream",
     "text": [
      "Loading Finance Index ...\n"
     ]
    }
   ],
   "source": [
    "collection_name = \"banks\"\n",
    "client = qdrant_client.QdrantClient(\n",
    "                                path=path_config.vector_store_path\n",
    "                                )\n",
    "vector_store = QdrantVectorStore(\n",
    "                                client=client, \n",
    "                                collection_name=collection_name\n",
    "                                )\n",
    "if not os.path.exists(f\"{path_config.vector_store_path}/collection/{collection_name}\"):\n",
    "    print(\"Building Finance Index ...\")\n",
    "    storage_context = StorageContext.from_defaults(\n",
    "                                                    vector_store=vector_store,\n",
    "                                                    )\n",
    "    index = VectorStoreIndex(\n",
    "                            nodes, \n",
    "                            storage_context=storage_context\n",
    "                            )\n",
    "    # index.storage_context.vector_store.persist(persist_path=path_config.vector_store_path)\n",
    "    \n",
    "else:\n",
    "    print(\"Loading Finance Index ...\")\n",
    "    storage_context = StorageContext.from_defaults(\n",
    "                                                    vector_store=vector_store\n",
    "                                                    )\n",
    "    index = VectorStoreIndex.from_vector_store(\n",
    "                                                vector_store, \n",
    "                                                storage_context=storage_context\n",
    "                                                )\n",
    "chat_engine = index.as_chat_engine()"
   ]
  },
  {
   "cell_type": "code",
   "execution_count": 8,
   "metadata": {},
   "outputs": [],
   "source": [
    "question = \"What are the Eligibility criteria to open a Fixed Deposit?\""
   ]
  },
  {
   "cell_type": "code",
   "execution_count": 9,
   "metadata": {},
   "outputs": [
    {
     "data": {
      "text/markdown": [
       "The eligibility criteria to open a Fixed Deposit include being a citizen of Sri Lanka above 18 years of age holding a valid National Identity Card (NIC), a valid Passport, or a Driving License. Sri Lankan citizens residing temporarily outside Sri Lanka, individuals holding dual citizenship, and non-residents who possess a resident visa are also eligible."
      ],
      "text/plain": [
       "<IPython.core.display.Markdown object>"
      ]
     },
     "metadata": {},
     "output_type": "display_data"
    }
   ],
   "source": [
    "response = chat_engine.chat(question)\n",
    "display(Markdown(str(response)))"
   ]
  }
 ],
 "metadata": {
  "kernelspec": {
   "display_name": "llamaindex",
   "language": "python",
   "name": "python3"
  },
  "language_info": {
   "codemirror_mode": {
    "name": "ipython",
    "version": 3
   },
   "file_extension": ".py",
   "mimetype": "text/x-python",
   "name": "python",
   "nbconvert_exporter": "python",
   "pygments_lexer": "ipython3",
   "version": "3.9.18"
  }
 },
 "nbformat": 4,
 "nbformat_minor": 2
}
