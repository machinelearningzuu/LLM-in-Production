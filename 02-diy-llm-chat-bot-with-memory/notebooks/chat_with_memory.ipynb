{
 "cells": [
  {
   "cell_type": "code",
   "execution_count": 1,
   "metadata": {},
   "outputs": [],
   "source": [
    "import os, time\n",
    "os.chdir('/Users/1zuu/Library/Mobile Documents/com~apple~CloudDocs/ML DEV/LLM RESEARCH 2024/LLM in Production/02-diy-llm-chat-bot-with-memory')"
   ]
  },
  {
   "cell_type": "code",
   "execution_count": 2,
   "metadata": {},
   "outputs": [
    {
     "name": "stdout",
     "output_type": "stream",
     "text": [
      "Using Groq LLM ....\n",
      "Using HuggingFace Embedding ....\n"
     ]
    },
    {
     "name": "stderr",
     "output_type": "stream",
     "text": [
      "/Users/1zuu/miniforge3/envs/llamaindex/lib/python3.9/site-packages/huggingface_hub/file_download.py:1132: FutureWarning: `resume_download` is deprecated and will be removed in version 1.0.0. Downloads always resume when possible. If you want to force a new download, use `force_download=True`.\n",
      "  warnings.warn(\n",
      "/Users/1zuu/miniforge3/envs/llamaindex/lib/python3.9/site-packages/huggingface_hub/file_download.py:1132: FutureWarning: `resume_download` is deprecated and will be removed in version 1.0.0. Downloads always resume when possible. If you want to force a new download, use `force_download=True`.\n",
      "  warnings.warn(\n"
     ]
    }
   ],
   "source": [
    "from src.chatbot_pipe import *"
   ]
  },
  {
   "cell_type": "code",
   "execution_count": 3,
   "metadata": {},
   "outputs": [
    {
     "name": "stdout",
     "output_type": "stream",
     "text": [
      "Total nodes: 16\n",
      "Building Finance Index ...\n"
     ]
    }
   ],
   "source": [
    "chat_pipe = ChatBotPipeline(llm=llm)"
   ]
  },
  {
   "cell_type": "code",
   "execution_count": 4,
   "metadata": {},
   "outputs": [
    {
     "name": "stderr",
     "output_type": "stream",
     "text": [
      "huggingface/tokenizers: The current process just got forked, after parallelism has already been used. Disabling parallelism to avoid deadlocks...\n",
      "To disable this warning, you can either:\n",
      "\t- Avoid using `tokenizers` before the fork if possible\n",
      "\t- Explicitly set the environment variable TOKENIZERS_PARALLELISM=(true | false)\n"
     ]
    },
    {
     "name": "stdout",
     "output_type": "stream",
     "text": [
      "RETRIEVING ...\n"
     ]
    },
    {
     "data": {
      "text/plain": [
       "\"Sure, I'd be happy to provide more information about Fixed Deposits (FDs) offered by HNB bank. \\n\\nWith HNB, you can create a fixed deposit account and place a deposit on various FD products. The tenure for these deposits ranges from 12 months to 60 months. If you wish to withdraw your fixed deposit before its maturity, you can do so, but you also have the option to obtain a FD agent’s Loan without withdrawing your deposit.\\n\\nThe interest rate for FDs is fixed for the entire tenure of the deposit and is typically higher than that of a savings account. You can view the current HNB bank's FD product latest interest rate on the bank's website or through Internet Banking.\\n\\nFor deposits, you can make payment to your nearest HNB Finance Branch by means of Cash, fund transfer directly to a HNB FINANCE designated Bank account, or Cheque/bank draft issued in favor of “HNB Finance Limited”. However, cheques favoring a third party are not accepted.\\n\\nAdditions/part payments can be made only at the date of Maturity. Alternatively, you could open a new deposit account.\\n\\nIf you have already created a fixed deposit via Internet Banking, you can withdraw it by selecting the FD account number from the dropdown list, verifying the transaction details, and completing the 2FA (OTP) validation. The withdrawn amount will be credited to your CASA account.\\n\\nPlease let me know if you need more information on any of these points.\""
      ]
     },
     "execution_count": 4,
     "metadata": {},
     "output_type": "execute_result"
    }
   ],
   "source": [
    "answer = chat_pipe.get_answer('665d91b0fab3872ddea674c8', 'I want to know about Fixed Deposits ?')\n",
    "answer"
   ]
  }
 ],
 "metadata": {
  "kernelspec": {
   "display_name": "llamaindex",
   "language": "python",
   "name": "python3"
  },
  "language_info": {
   "codemirror_mode": {
    "name": "ipython",
    "version": 3
   },
   "file_extension": ".py",
   "mimetype": "text/x-python",
   "name": "python",
   "nbconvert_exporter": "python",
   "pygments_lexer": "ipython3",
   "version": "3.9.18"
  }
 },
 "nbformat": 4,
 "nbformat_minor": 2
}
